{
  "nbformat": 4,
  "nbformat_minor": 0,
  "metadata": {
    "colab": {
      "provenance": []
    },
    "kernelspec": {
      "name": "python3",
      "display_name": "Python 3"
    },
    "language_info": {
      "name": "python"
    }
  },
  "cells": [
    {
      "cell_type": "markdown",
      "source": [
        "#**OOP's Assignment 2**\n",
        "---\n"
      ],
      "metadata": {
        "id": "4nBRQwlsoYno"
      }
    },
    {
      "cell_type": "markdown",
      "source": [
        "Q1. What is Abstraction in OOps? Explain with an example."
      ],
      "metadata": {
        "id": "kvLelPheonRT"
      }
    },
    {
      "cell_type": "markdown",
      "source": [
        "Abstraction is a fundamental concept in Object-Oriented Programming (OOP) that focuses on hiding the complex implementation details and showing only the essential features of an object. This helps in reducing complexity and allows the programmer to focus on interactions at a higher level."
      ],
      "metadata": {
        "id": "hMJgPvE_o054"
      }
    },
    {
      "cell_type": "code",
      "source": [
        "from abc import ABC, abstractmethod\n",
        "\n",
        "# Blueprint for a coffee machine\n",
        "class CoffeeMachine(ABC):\n",
        "\n",
        "    @abstractmethod\n",
        "    def brew_coffee(self):\n",
        "        pass\n",
        "\n",
        "    def add_water(self):\n",
        "        print(\"Water added\")\n",
        "\n",
        "# Actual coffee machine\n",
        "class BasicCoffeeMachine(CoffeeMachine):\n",
        "\n",
        "    def brew_coffee(self):\n",
        "        print(\"Brewing coffee\")\n",
        "\n",
        "# Using the coffee machine\n",
        "my_machine = BasicCoffeeMachine()\n",
        "my_machine.add_water()\n",
        "my_machine.brew_coffee()\n"
      ],
      "metadata": {
        "colab": {
          "base_uri": "https://localhost:8080/"
        },
        "id": "WH-g2U7jpACB",
        "outputId": "a99a98ec-df0c-4a70-cb36-0b26347ccbe5"
      },
      "execution_count": null,
      "outputs": [
        {
          "output_type": "stream",
          "name": "stdout",
          "text": [
            "Water added\n",
            "Brewing coffee\n"
          ]
        }
      ]
    },
    {
      "cell_type": "markdown",
      "source": [
        "Q2. Differentiate between Abstraction and Encapsulation. Explain with an example."
      ],
      "metadata": {
        "id": "4hRRdKepp339"
      }
    },
    {
      "cell_type": "markdown",
      "source": [
        "**Abstraction**\n",
        "\n",
        "Abstraction is about hiding the complex implementation details and showing only the essential features of an object. It focuses on what an object does rather than how it does it.\n",
        "\n",
        "**Example:**\n",
        "\n",
        " A TV remote. You know which button to press to change the channel or adjust the volume, but you don’t need to know how the remote sends signals to the TV.\n"
      ],
      "metadata": {
        "id": "_C8H7mFRp8ur"
      }
    },
    {
      "cell_type": "code",
      "source": [
        "from abc import ABC, abstractmethod\n",
        "\n",
        "# Abstract class\n",
        "class CoffeeMachine(ABC):\n",
        "\n",
        "    @abstractmethod\n",
        "    def brew_coffee(self):\n",
        "        pass\n",
        "\n",
        "    def add_water(self):\n",
        "        print(\"Water added\")\n",
        "\n",
        "# Concrete class\n",
        "class BasicCoffeeMachine(CoffeeMachine):\n",
        "\n",
        "    def brew_coffee(self):\n",
        "        print(\"Brewing coffee\")\n",
        "\n",
        "# Using the coffee machine\n",
        "my_machine = BasicCoffeeMachine()\n",
        "my_machine.add_water()\n",
        "my_machine.brew_coffee()\n"
      ],
      "metadata": {
        "colab": {
          "base_uri": "https://localhost:8080/"
        },
        "id": "W_GGSgRqprod",
        "outputId": "b2aaaaf2-1883-4914-8a3c-fcc5bc158a81"
      },
      "execution_count": null,
      "outputs": [
        {
          "output_type": "stream",
          "name": "stdout",
          "text": [
            "Water added\n",
            "Brewing coffee\n"
          ]
        }
      ]
    },
    {
      "cell_type": "markdown",
      "source": [
        "**Encapsulation**\n",
        "\n",
        "Encapsulation is about bundling the data (attributes) and methods (functions) that operate on the data into a single unit, known as a class. It restricts direct access to some of an object’s components, which can only be accessed through methods.\n",
        "\n",
        "**Example:** A capsule containing medicine. The capsule hides the medicine inside, and you can only access it by opening the capsule."
      ],
      "metadata": {
        "id": "uFPiDPCdqzEo"
      }
    },
    {
      "cell_type": "code",
      "source": [
        "class CoffeeMachine:\n",
        "    def __init__(self):\n",
        "        self.__water_level = 0  # Private attribute\n",
        "\n",
        "    def add_water(self, amount):\n",
        "        self.__water_level += amount\n",
        "        print(f\"Water level: {self.__water_level}\")\n",
        "\n",
        "    def brew_coffee(self):\n",
        "        if self.__water_level > 0:\n",
        "            print(\"Brewing coffee\")\n",
        "            self.__water_level -= 1\n",
        "        else:\n",
        "            print(\"Not enough water\")\n",
        "\n",
        "# Using the coffee machine\n",
        "my_machine = CoffeeMachine()\n",
        "my_machine.add_water(3)\n",
        "my_machine.brew_coffee()\n"
      ],
      "metadata": {
        "colab": {
          "base_uri": "https://localhost:8080/"
        },
        "id": "oxCeJ-7HqrA6",
        "outputId": "34bb9b52-0788-4373-bc58-ea9656c161db"
      },
      "execution_count": null,
      "outputs": [
        {
          "output_type": "stream",
          "name": "stdout",
          "text": [
            "Water level: 3\n",
            "Brewing coffee\n"
          ]
        }
      ]
    },
    {
      "cell_type": "markdown",
      "source": [
        "Q3. What is abc module in python? Why is it used?\n"
      ],
      "metadata": {
        "id": "btNYYTWDrY1T"
      }
    },
    {
      "cell_type": "markdown",
      "source": [
        "The abc module in Python stands for Abstract Base Classes. It provides the infrastructure for defining abstract base classes (ABCs), which are a way to define common interfaces for a set of subclasses."
      ],
      "metadata": {
        "id": "90Di9Gz2rdMk"
      }
    },
    {
      "cell_type": "code",
      "source": [
        "from abc import ABC, abstractmethod\n",
        "\n",
        "# Abstract base class\n",
        "class Animal(ABC):\n",
        "\n",
        "    @abstractmethod\n",
        "    def make_sound(self):\n",
        "        pass\n",
        "\n",
        "# Concrete class\n",
        "class Dog(Animal):\n",
        "\n",
        "    def make_sound(self):\n",
        "        return \"Bark\"\n",
        "\n",
        "# Concrete class\n",
        "class Cat(Animal):\n",
        "\n",
        "    def make_sound(self):\n",
        "        return \"Meow\"\n",
        "\n",
        "# Usage\n",
        "dog = Dog()\n",
        "cat = Cat()\n",
        "print(dog.make_sound())  # Output: Bark\n",
        "print(cat.make_sound())  # Output: Meow\n"
      ],
      "metadata": {
        "colab": {
          "base_uri": "https://localhost:8080/"
        },
        "id": "O39_RWC0rMlB",
        "outputId": "b92f7c86-76dd-47df-e6ec-d64ecb7af198"
      },
      "execution_count": null,
      "outputs": [
        {
          "output_type": "stream",
          "name": "stdout",
          "text": [
            "Bark\n",
            "Meow\n"
          ]
        }
      ]
    },
    {
      "cell_type": "markdown",
      "source": [
        "Q4. How can we achieve data abstraction?"
      ],
      "metadata": {
        "id": "snlAdJl1s1JK"
      }
    },
    {
      "cell_type": "markdown",
      "source": [
        "**1. Abstract Classes and Interfaces:**\n",
        "\n",
        " Define abstract classes or interfaces that declare methods without implementing them. Subclasses or implementing classes provide the specific implementations.\n",
        "\n",
        "**2. Encapsulation:**\n",
        "\n",
        " Use encapsulation to hide the internal state of an object and expose only the necessary methods to interact with that state.\n",
        "\n",
        "**3. Getter and Setter Methods:**\n",
        "\n",
        " Provide public methods to access and update private data members, ensuring controlled access to the data."
      ],
      "metadata": {
        "id": "YRh2Kz7hs5N2"
      }
    },
    {
      "cell_type": "code",
      "source": [
        "from abc import ABC, abstractmethod\n",
        "\n",
        "# Abstract class\n",
        "class Shape(ABC):\n",
        "\n",
        "    @abstractmethod\n",
        "    def area(self):\n",
        "        pass\n",
        "\n",
        "    @abstractmethod\n",
        "    def perimeter(self):\n",
        "        pass\n",
        "\n",
        "# Concrete class\n",
        "class Rectangle(Shape):\n",
        "\n",
        "    def __init__(self, length, width):\n",
        "        self.__length = length\n",
        "        self.__width = width\n",
        "\n",
        "    def area(self):\n",
        "        return self.__length * self.__width\n",
        "\n",
        "    def perimeter(self):\n",
        "        return 2 * (self.__length + self.__width)\n",
        "\n",
        "    # Getter and Setter methods\n",
        "    def get_length(self):\n",
        "        return self.__length\n",
        "\n",
        "    def set_length(self, length):\n",
        "        self.__length = length\n",
        "\n",
        "    def get_width(self):\n",
        "        return self.__width\n",
        "\n",
        "    def set_width(self, width):\n",
        "        self.__width = width\n",
        "\n",
        "# Usage\n",
        "rect = Rectangle(10, 5)\n",
        "print(\"Area:\", rect.area())  # Output: Area: 50\n",
        "print(\"Perimeter:\", rect.perimeter())  # Output: Perimeter: 30\n"
      ],
      "metadata": {
        "id": "p5JC5QeCsLpp",
        "colab": {
          "base_uri": "https://localhost:8080/"
        },
        "outputId": "8ba441f4-fbf4-4334-e3bc-7c4d9bfee5ac"
      },
      "execution_count": 6,
      "outputs": [
        {
          "output_type": "stream",
          "name": "stdout",
          "text": [
            "Area: 50\n",
            "Perimeter: 30\n"
          ]
        }
      ]
    },
    {
      "cell_type": "markdown",
      "source": [
        "Q5. Can we create an instance of an abstract class? Explain your answer."
      ],
      "metadata": {
        "id": "DsvzlksGuaFy"
      }
    },
    {
      "cell_type": "markdown",
      "source": [
        "No, you cannot create an instance of an abstract class in Python.\n",
        "\n",
        "An abstract class is designed to be a blueprint for other classes. It contains one or more abstract methods, which are methods declared but not implemented. These methods must be implemented by any subclass that inherits from the abstract class. Because abstract classes are incomplete by themselves (they have methods that are not implemented), they cannot be instantiated directly."
      ],
      "metadata": {
        "id": "pr9YM0azucql"
      }
    }
  ]
}