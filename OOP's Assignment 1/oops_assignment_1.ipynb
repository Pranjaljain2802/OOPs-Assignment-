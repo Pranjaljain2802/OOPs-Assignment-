{
  "nbformat": 4,
  "nbformat_minor": 0,
  "metadata": {
    "colab": {
      "provenance": []
    },
    "kernelspec": {
      "name": "python3",
      "display_name": "Python 3"
    },
    "language_info": {
      "name": "python"
    }
  },
  "cells": [
    {
      "cell_type": "markdown",
      "source": [
        "#**OOP'S Assignment 1**\n",
        "---\n"
      ],
      "metadata": {
        "id": "U1P2MgKwwdJQ"
      }
    },
    {
      "cell_type": "markdown",
      "source": [
        "Q1. Explain Class and Object with respect to Object-Oriented Programming. Give a suitable example."
      ],
      "metadata": {
        "id": "cg825-Tswpvv"
      }
    },
    {
      "cell_type": "markdown",
      "source": [
        "**Class**\n",
        "\n",
        "A class is like a template. It defines the structure and behavior (data and methods) that the objects created from the class will have.\n",
        "\n",
        "**Object**\n",
        "\n",
        "An object is an instance of a class. It is a concrete entity based on the class blueprint, with its own unique data."
      ],
      "metadata": {
        "id": "SLCKxdmgCINQ"
      }
    },
    {
      "cell_type": "code",
      "execution_count": 3,
      "metadata": {
        "id": "c52qPYGwhMHk",
        "colab": {
          "base_uri": "https://localhost:8080/"
        },
        "outputId": "85a69d4f-32c8-4315-c445-8a87c54bf9f3"
      },
      "outputs": [
        {
          "output_type": "stream",
          "name": "stdout",
          "text": [
            "2020 Toyota Inova\n",
            "2019 Honda City\n"
          ]
        }
      ],
      "source": [
        "class Car:\n",
        "\n",
        "    def __init__(self, make, model, year):\n",
        "        self.make = make\n",
        "        self.model = model\n",
        "        self.year = year\n",
        "\n",
        "    def display_info(self):\n",
        "        print(f\"{self.year} {self.make} {self.model}\")\n",
        "\n",
        "# Creating objects of the Car class\n",
        "car1 = Car(\"Toyota\", \"Inova\", 2020)\n",
        "car2 = Car(\"Honda\", \"City\", 2019)\n",
        "\n",
        "# Accessing attributes and methods\n",
        "car1.display_info()  # Output: 2020 Toyoata Inova\n",
        "car2.display_info()  # Output: 2019 Honda City\n"
      ]
    },
    {
      "cell_type": "markdown",
      "source": [
        "Q2. Name the four pillars of OOPs."
      ],
      "metadata": {
        "id": "5H65mdu0DSzm"
      }
    },
    {
      "cell_type": "markdown",
      "source": [
        "The four pillars of OOPs are : -\n",
        "1. Encapsulation\n",
        "2. Abstraction\n",
        "3. Inheritance\n",
        "4. Polymorphism\n",
        "\n",
        "\n"
      ],
      "metadata": {
        "id": "OZbFm1caDkEI"
      }
    },
    {
      "cell_type": "markdown",
      "source": [
        "Q3. Explain why the __init__() function is used. Give a suitable example."
      ],
      "metadata": {
        "id": "KwckJBRTEWEc"
      }
    },
    {
      "cell_type": "markdown",
      "source": [
        "The __init__() function in Python is a special method called a constructor. It is automatically call when a new instance of a class is created. The primary purpose of the __init__() method is to initialize the object attributes and perform any setup necessary when an object is instantiated."
      ],
      "metadata": {
        "id": "7NZEJwVYEcdf"
      }
    },
    {
      "cell_type": "code",
      "source": [
        "class Person:\n",
        "    def __init__(self, name, age):\n",
        "        self.name = name\n",
        "        self.age = age\n",
        "\n",
        "    def display_info(self):\n",
        "        print(f\"Name: {self.name}, Age: {self.age}\")\n",
        "\n",
        "# Creating objects of the Person class\n",
        "person1 = Person(\"Pranjal Jain\", 22)\n",
        "person2 = Person(\"Tanish Jain\", 19)\n",
        "\n",
        "# Accessing attributes and methods\n",
        "person1.display_info()  # Output: Name: Panjal Jain, Age: 22\n",
        "person2.display_info()  # Output: Name: Tanish Jain, Age: 19\n"
      ],
      "metadata": {
        "colab": {
          "base_uri": "https://localhost:8080/"
        },
        "id": "3F04Y8LhD9xZ",
        "outputId": "6dcf131d-4448-41ce-cfb4-65530041781a"
      },
      "execution_count": 5,
      "outputs": [
        {
          "output_type": "stream",
          "name": "stdout",
          "text": [
            "Name: Pranjal Jain, Age: 22\n",
            "Name: Tanish Jain, Age: 19\n"
          ]
        }
      ]
    },
    {
      "cell_type": "markdown",
      "source": [
        "Q4. Why self is used in OOPs?"
      ],
      "metadata": {
        "id": "1CohC5oqGYY1"
      }
    },
    {
      "cell_type": "markdown",
      "source": [
        "In Object-Oriented Programming (OOP), the self keyword is used to represent the instance of the class. It allows you to access the attributes and methods of the class in Python. Here are the main reasons why self is used:\n",
        "\n",
        "**Instance Reference:** self refers to the instance of the class. It is used to access variables that belong to the class.\n",
        "\n",
        "**Attribute Binding:** It binds the attributes with the given arguments. This means you can set and get the values of instance variables.\n",
        "Method Access: It allows you to call other methods within the same class."
      ],
      "metadata": {
        "id": "58CW85cJGdhJ"
      }
    },
    {
      "cell_type": "markdown",
      "source": [
        "Q5. What is inheritance? Give an example for each type of inheritance."
      ],
      "metadata": {
        "id": "dzDANnGNHRwi"
      }
    },
    {
      "cell_type": "markdown",
      "source": [
        "Inheritance in Object-Oriented Programming (OOP) is a mechanism where a new class, known as a subclass, inherits attributes and methods from an existing class, known as a superclass. This promotes code reusability and establishes a relationship between classes.\n",
        "\n",
        "**Types of Inheritance**\n",
        "1. Single Inheritance\n",
        "2. Multiple Inheritance\n",
        "3. Multilevel Inheritance\n",
        "4. Hierarchical Inheritance\n",
        "5. Hybrid Inheritance\n",
        "\n"
      ],
      "metadata": {
        "id": "V6762k4dHRUi"
      }
    },
    {
      "cell_type": "markdown",
      "source": [
        "**1. Single Inheritance**\n",
        "\n",
        "**Definition:** A class inherits from one superclass.\n",
        "\n",
        "**Example :**"
      ],
      "metadata": {
        "id": "TnmVOXbQITjF"
      }
    },
    {
      "cell_type": "code",
      "source": [
        "class Animal:\n",
        "    def speak(self):\n",
        "        print(\"Animal speaks\")\n",
        "\n",
        "class Dog(Animal):\n",
        "    def bark(self):\n",
        "        print(\"Dog barks\")\n",
        "\n",
        "dog = Dog()\n",
        "dog.speak()  # Output: Animal speaks\n",
        "dog.bark()   # Output: Dog barks\n"
      ],
      "metadata": {
        "colab": {
          "base_uri": "https://localhost:8080/"
        },
        "id": "3D6Z6veoFNdQ",
        "outputId": "7f2686c2-5cb5-4278-c345-29f915395601"
      },
      "execution_count": 7,
      "outputs": [
        {
          "output_type": "stream",
          "name": "stdout",
          "text": [
            "Animal speaks\n",
            "Dog barks\n"
          ]
        }
      ]
    },
    {
      "cell_type": "markdown",
      "source": [
        "**2. Multiple Inheritance**\n",
        "\n",
        "**Definition:**\n",
        " A class inherits from more than one superclass.\n",
        "\n",
        "**Example:**"
      ],
      "metadata": {
        "id": "gXwK3G6tJVQS"
      }
    },
    {
      "cell_type": "code",
      "source": [
        "class Father:\n",
        "    def work(self):\n",
        "        print(\"Father works\")\n",
        "\n",
        "class Mother:\n",
        "    def cook(self):\n",
        "        print(\"Mother cooks\")\n",
        "\n",
        "class Child(Father, Mother):\n",
        "    pass\n",
        "\n",
        "child = Child()\n",
        "child.work()  # Output: Father works\n",
        "child.cook()  # Output: Mother cooks\n"
      ],
      "metadata": {
        "colab": {
          "base_uri": "https://localhost:8080/"
        },
        "id": "MvFQfqZAJhgD",
        "outputId": "ad9f9fb9-ce15-471d-9277-536a492026a3"
      },
      "execution_count": 8,
      "outputs": [
        {
          "output_type": "stream",
          "name": "stdout",
          "text": [
            "Father works\n",
            "Mother cooks\n"
          ]
        }
      ]
    },
    {
      "cell_type": "markdown",
      "source": [
        "**3. Multilevel Inheritance**\n",
        "\n",
        "**Definition:** A class inherits from a superclass, which in turn inherits from another superclass.\n",
        "\n",
        "**Example:**"
      ],
      "metadata": {
        "id": "LNV6Q2-xJ2hF"
      }
    },
    {
      "cell_type": "code",
      "source": [
        "class Grandparent:\n",
        "    def wisdom(self):\n",
        "        print(\"Grandparent's wisdom\")\n",
        "\n",
        "class Parent(Grandparent):\n",
        "    def experience(self):\n",
        "        print(\"Parent's experience\")\n",
        "\n",
        "class Child(Parent):\n",
        "    def energy(self):\n",
        "        print(\"Child's energy\")\n",
        "\n",
        "child = Child()\n",
        "child.wisdom()     # Output: Grandparent's wisdom\n",
        "child.experience() # Output: Parent's experience\n",
        "child.energy()     # Output: Child's energy\n"
      ],
      "metadata": {
        "colab": {
          "base_uri": "https://localhost:8080/"
        },
        "id": "N-j-tN4XJ_Fd",
        "outputId": "e152d1eb-099d-4e92-db2e-a3e1794f7eee"
      },
      "execution_count": 9,
      "outputs": [
        {
          "output_type": "stream",
          "name": "stdout",
          "text": [
            "Grandparent's wisdom\n",
            "Parent's experience\n",
            "Child's energy\n"
          ]
        }
      ]
    },
    {
      "cell_type": "markdown",
      "source": [
        "**4. Hierarchical Inheritance**\n",
        "\n",
        "**Definition:** Multiple classes inherit from a single superclass.\n",
        "\n",
        "**Example:**"
      ],
      "metadata": {
        "id": "2JXDnIQ5KjZt"
      }
    },
    {
      "cell_type": "code",
      "source": [
        "class Vehicle:\n",
        "    def start(self):\n",
        "        print(\"Vehicle starts\")\n",
        "\n",
        "class Car(Vehicle):\n",
        "    def drive(self):\n",
        "        print(\"Car drives\")\n",
        "\n",
        "class Bike(Vehicle):\n",
        "    def ride(self):\n",
        "        print(\"Bike rides\")\n",
        "\n",
        "car = Car()\n",
        "bike = Bike()\n",
        "car.start()  # Output: Vehicle starts\n",
        "car.drive()  # Output: Car drives\n",
        "bike.start() # Output: Vehicle starts\n",
        "bike.ride()  # Output: Bike rides\n"
      ],
      "metadata": {
        "colab": {
          "base_uri": "https://localhost:8080/"
        },
        "id": "vWJGlTuEKrdR",
        "outputId": "c3f1e3dc-f617-40a2-cf2d-b52100d6c8dc"
      },
      "execution_count": 10,
      "outputs": [
        {
          "output_type": "stream",
          "name": "stdout",
          "text": [
            "Vehicle starts\n",
            "Car drives\n",
            "Vehicle starts\n",
            "Bike rides\n"
          ]
        }
      ]
    },
    {
      "cell_type": "markdown",
      "source": [
        "**5. Hybrid Inheritance**\n",
        "\n",
        "**Definition:** A combination of two or more types of inheritance.\n",
        "\n",
        "**Example:**"
      ],
      "metadata": {
        "id": "_jrvelTnLC1m"
      }
    },
    {
      "cell_type": "code",
      "source": [
        "class A:\n",
        "    def method_a(self):\n",
        "        print(\"Method A\")\n",
        "\n",
        "class B(A):\n",
        "    def method_b(self):\n",
        "        print(\"Method B\")\n",
        "\n",
        "class C(A):\n",
        "    def method_c(self):\n",
        "        print(\"Method C\")\n",
        "\n",
        "class D(B, C):\n",
        "    pass\n",
        "\n",
        "d = D()\n",
        "d.method_a()  # Output: Method A\n",
        "d.method_b()  # Output: Method B\n",
        "d.method_c()  # Output: Method C\n"
      ],
      "metadata": {
        "colab": {
          "base_uri": "https://localhost:8080/"
        },
        "id": "gwZajlgFLK-E",
        "outputId": "3b61157e-1a8c-486c-a5f7-058044303311"
      },
      "execution_count": 11,
      "outputs": [
        {
          "output_type": "stream",
          "name": "stdout",
          "text": [
            "Method A\n",
            "Method B\n",
            "Method C\n"
          ]
        }
      ]
    }
  ]
}